{
 "cells": [
  {
   "cell_type": "markdown",
   "id": "385a5003",
   "metadata": {},
   "source": [
    "# Car Evaluation"
   ]
  },
  {
   "cell_type": "markdown",
   "id": "033feb45",
   "metadata": {},
   "source": [
    "Dataset: http://archive.ics.uci.edu/ml/datasets/Car+Evaluation\n",
    "\n",
    "I built 5 models: decision tree, logistic regression, KNN, Navie bayes, and SVM classification to classify the car into 4 classes: unacc, acc, good, and vgood."
   ]
  },
  {
   "cell_type": "markdown",
   "id": "99b1e7d4",
   "metadata": {},
   "source": [
    "## Data Processing"
   ]
  },
  {
   "cell_type": "code",
   "execution_count": 27,
   "id": "45866c6c",
   "metadata": {},
   "outputs": [],
   "source": [
    "import numpy as np\n",
    "import pandas as pd\n",
    "import matplotlib.pyplot as plt\n",
    "import warnings\n",
    "warnings.filterwarnings(\"ignore\")"
   ]
  },
  {
   "cell_type": "code",
   "execution_count": 28,
   "id": "a8918bf7",
   "metadata": {},
   "outputs": [],
   "source": [
    "from sklearn.model_selection import KFold\n",
    "from sklearn.model_selection import GridSearchCV\n",
    "from sklearn.model_selection import cross_val_score\n",
    "from sklearn.tree import DecisionTreeClassifier\n",
    "from sklearn.linear_model import LogisticRegression\n",
    "from sklearn.neighbors import KNeighborsClassifier\n",
    "from sklearn.naive_bayes import GaussianNB\n",
    "from sklearn.svm import SVC\n",
    "from sklearn.preprocessing import OneHotEncoder, OrdinalEncoder"
   ]
  },
  {
   "cell_type": "code",
   "execution_count": 29,
   "id": "22bb96d6",
   "metadata": {},
   "outputs": [
    {
     "data": {
      "text/html": [
       "<div>\n",
       "<style scoped>\n",
       "    .dataframe tbody tr th:only-of-type {\n",
       "        vertical-align: middle;\n",
       "    }\n",
       "\n",
       "    .dataframe tbody tr th {\n",
       "        vertical-align: top;\n",
       "    }\n",
       "\n",
       "    .dataframe thead th {\n",
       "        text-align: right;\n",
       "    }\n",
       "</style>\n",
       "<table border=\"1\" class=\"dataframe\">\n",
       "  <thead>\n",
       "    <tr style=\"text-align: right;\">\n",
       "      <th></th>\n",
       "      <th>buying</th>\n",
       "      <th>maint</th>\n",
       "      <th>doors</th>\n",
       "      <th>persons</th>\n",
       "      <th>lug_boot</th>\n",
       "      <th>safety</th>\n",
       "      <th>class</th>\n",
       "    </tr>\n",
       "  </thead>\n",
       "  <tbody>\n",
       "    <tr>\n",
       "      <th>0</th>\n",
       "      <td>vhigh</td>\n",
       "      <td>vhigh</td>\n",
       "      <td>2</td>\n",
       "      <td>2</td>\n",
       "      <td>small</td>\n",
       "      <td>low</td>\n",
       "      <td>unacc</td>\n",
       "    </tr>\n",
       "    <tr>\n",
       "      <th>1</th>\n",
       "      <td>vhigh</td>\n",
       "      <td>vhigh</td>\n",
       "      <td>2</td>\n",
       "      <td>2</td>\n",
       "      <td>small</td>\n",
       "      <td>med</td>\n",
       "      <td>unacc</td>\n",
       "    </tr>\n",
       "    <tr>\n",
       "      <th>2</th>\n",
       "      <td>vhigh</td>\n",
       "      <td>vhigh</td>\n",
       "      <td>2</td>\n",
       "      <td>2</td>\n",
       "      <td>small</td>\n",
       "      <td>high</td>\n",
       "      <td>unacc</td>\n",
       "    </tr>\n",
       "    <tr>\n",
       "      <th>3</th>\n",
       "      <td>vhigh</td>\n",
       "      <td>vhigh</td>\n",
       "      <td>2</td>\n",
       "      <td>2</td>\n",
       "      <td>med</td>\n",
       "      <td>low</td>\n",
       "      <td>unacc</td>\n",
       "    </tr>\n",
       "    <tr>\n",
       "      <th>4</th>\n",
       "      <td>vhigh</td>\n",
       "      <td>vhigh</td>\n",
       "      <td>2</td>\n",
       "      <td>2</td>\n",
       "      <td>med</td>\n",
       "      <td>med</td>\n",
       "      <td>unacc</td>\n",
       "    </tr>\n",
       "  </tbody>\n",
       "</table>\n",
       "</div>"
      ],
      "text/plain": [
       "  buying  maint doors persons lug_boot safety  class\n",
       "0  vhigh  vhigh     2       2    small    low  unacc\n",
       "1  vhigh  vhigh     2       2    small    med  unacc\n",
       "2  vhigh  vhigh     2       2    small   high  unacc\n",
       "3  vhigh  vhigh     2       2      med    low  unacc\n",
       "4  vhigh  vhigh     2       2      med    med  unacc"
      ]
     },
     "execution_count": 29,
     "metadata": {},
     "output_type": "execute_result"
    }
   ],
   "source": [
    "df = pd.read_csv('car.data', header = None)\n",
    "col_names =['buying', 'maint', 'doors', 'persons', 'lug_boot', 'safety', 'class']\n",
    "df.columns = col_names\n",
    "df.head()"
   ]
  },
  {
   "cell_type": "code",
   "execution_count": 30,
   "id": "0f9ea7cd",
   "metadata": {
    "scrolled": true
   },
   "outputs": [
    {
     "name": "stdout",
     "output_type": "stream",
     "text": [
      "<class 'pandas.core.frame.DataFrame'>\n",
      "RangeIndex: 1728 entries, 0 to 1727\n",
      "Data columns (total 7 columns):\n",
      " #   Column    Non-Null Count  Dtype \n",
      "---  ------    --------------  ----- \n",
      " 0   buying    1728 non-null   object\n",
      " 1   maint     1728 non-null   object\n",
      " 2   doors     1728 non-null   object\n",
      " 3   persons   1728 non-null   object\n",
      " 4   lug_boot  1728 non-null   object\n",
      " 5   safety    1728 non-null   object\n",
      " 6   class     1728 non-null   object\n",
      "dtypes: object(7)\n",
      "memory usage: 94.6+ KB\n"
     ]
    }
   ],
   "source": [
    "df.info()"
   ]
  },
  {
   "cell_type": "markdown",
   "id": "a95947a6",
   "metadata": {},
   "source": [
    "## Data Exploration"
   ]
  },
  {
   "cell_type": "code",
   "execution_count": 31,
   "id": "bd3a4e94",
   "metadata": {},
   "outputs": [
    {
     "data": {
      "text/plain": [
       "buying      0\n",
       "maint       0\n",
       "doors       0\n",
       "persons     0\n",
       "lug_boot    0\n",
       "safety      0\n",
       "class       0\n",
       "dtype: int64"
      ]
     },
     "execution_count": 31,
     "metadata": {},
     "output_type": "execute_result"
    }
   ],
   "source": [
    "# Check missing value\n",
    "df.isnull().sum()"
   ]
  },
  {
   "cell_type": "code",
   "execution_count": 32,
   "id": "91400c91",
   "metadata": {},
   "outputs": [
    {
     "data": {
      "text/plain": [
       "class\n",
       "acc       384\n",
       "good       69\n",
       "unacc    1210\n",
       "vgood      65\n",
       "Name: class, dtype: int64"
      ]
     },
     "execution_count": 32,
     "metadata": {},
     "output_type": "execute_result"
    }
   ],
   "source": [
    "# Check if there is imbalanced data\n",
    "df.groupby('class')['class'].count()"
   ]
  },
  {
   "cell_type": "code",
   "execution_count": 33,
   "id": "db724702",
   "metadata": {},
   "outputs": [],
   "source": [
    "# define dependent and independent variables\n",
    "x = df.iloc[:,0:6]\n",
    "y = df['class']"
   ]
  },
  {
   "cell_type": "markdown",
   "id": "486b8da4",
   "metadata": {},
   "source": [
    "### Transform input values"
   ]
  },
  {
   "cell_type": "markdown",
   "id": "fc276a9e",
   "metadata": {},
   "source": [
    "Since I cannot define the distance between each class (e.g. the gap between 'low' and 'med'), I use OneHotEncoder to transform ordinal data (x) to categorical data (x_cat) to train the model. "
   ]
  },
  {
   "cell_type": "code",
   "execution_count": 34,
   "id": "65538e59",
   "metadata": {},
   "outputs": [],
   "source": [
    "# ordinal to categorical\n",
    "from sklearn.preprocessing import OneHotEncoder\n",
    "ohe = OneHotEncoder()\n",
    "x_ohe = ohe.fit_transform(x).toarray()\n",
    "x_cat = pd.DataFrame(x_ohe)"
   ]
  },
  {
   "cell_type": "markdown",
   "id": "803c0caa",
   "metadata": {},
   "source": [
    "## Modeling"
   ]
  },
  {
   "cell_type": "markdown",
   "id": "dd0feb14",
   "metadata": {},
   "source": [
    "### Nested Grid Search CV"
   ]
  },
  {
   "cell_type": "code",
   "execution_count": 35,
   "id": "153d8c78",
   "metadata": {},
   "outputs": [],
   "source": [
    "# Cross-validation for inner and outer loops\n",
    "i = 42\n",
    "inner_cv = KFold(n_splits=4, shuffle=True, random_state=i)\n",
    "outer_cv = KFold(n_splits=4, shuffle=True, random_state=i)\n",
    "score = 'accuracy'"
   ]
  },
  {
   "cell_type": "markdown",
   "id": "3d330454",
   "metadata": {},
   "source": [
    "### Tuning hyperparameters"
   ]
  },
  {
   "cell_type": "code",
   "execution_count": 36,
   "id": "bdb78488",
   "metadata": {},
   "outputs": [],
   "source": [
    "# Decision Tree\n",
    "tree = DecisionTreeClassifier()\n",
    "depth = list(range(2,10))\n",
    "min_s_leaf = list(range(1,5))\n",
    "weight = [\"entropy\", \"gini\"]\n",
    "t_grid = dict(max_depth = depth, min_samples_leaf = min_s_leaf, criterion = weight)\n",
    "\n",
    "# Logistic Regression\n",
    "reg = LogisticRegression(solver='liblinear')\n",
    "c_rng = [0.01, 0.1, 0.5, 1, 10, 100]\n",
    "penal = ['l1','l2','elastinet']\n",
    "lr_grid = {'C': c_rng, 'penalty':penal}\n",
    "\n",
    "# KNN\n",
    "knn =  KNeighborsClassifier()\n",
    "k = list(range(2,5))\n",
    "knn_grid = {'n_neighbors':k}\n",
    "\n",
    "# Naive Bayse\n",
    "nb = GaussianNB()\n",
    "nb_grid = {}\n",
    "\n",
    "# SVM\n",
    "svm = SVC()\n",
    "kernels = ['rbf']\n",
    "c = [1,10,100]\n",
    "g = [0.1,0.5,1]\n",
    "svm_grid = {'kernel':kernels,'C':c,'gamma':g} "
   ]
  },
  {
   "cell_type": "markdown",
   "id": "b4ac5a5e",
   "metadata": {},
   "source": [
    "### Non-nested parameter search and scoring"
   ]
  },
  {
   "cell_type": "code",
   "execution_count": 37,
   "id": "ae85b5cf",
   "metadata": {},
   "outputs": [],
   "source": [
    "tree_clf = GridSearchCV(estimator=tree, param_grid=t_grid, scoring = score, cv=inner_cv)\n",
    "reg_clf = GridSearchCV(estimator=reg, param_grid=lr_grid, scoring = score, cv=inner_cv)\n",
    "knn_clf = GridSearchCV(estimator=knn, param_grid=knn_grid, scoring = score, cv=inner_cv)\n",
    "nb_clf = GridSearchCV(estimator=nb, param_grid=nb_grid, scoring = score, cv=inner_cv)\n",
    "svm_clf = GridSearchCV(estimator=svm, param_grid=svm_grid, scoring = score, cv=inner_cv)"
   ]
  },
  {
   "cell_type": "markdown",
   "id": "46bb00ea",
   "metadata": {},
   "source": [
    "### Nested CV with parameter optimization"
   ]
  },
  {
   "cell_type": "code",
   "execution_count": 38,
   "id": "2fe47ac4",
   "metadata": {},
   "outputs": [],
   "source": [
    "# decision tree\n",
    "t_score = cross_val_score(tree_clf, X=x_cat, y=y, cv=outer_cv) \n",
    "\n",
    "# logistic regression\n",
    "lr_score = cross_val_score(reg_clf, X=x_cat, y=y, cv=outer_cv) \n",
    "\n",
    "# knn\n",
    "knn_score = cross_val_score(knn_clf, X=x_cat, y=y, cv=outer_cv) \n",
    "\n",
    "# naive bayse\n",
    "nb_score = cross_val_score(nb_clf, X=x_cat, y=y, cv=outer_cv)\n",
    "\n",
    "# SVM\n",
    "svm_score = cross_val_score(svm_clf, X=x_cat, y=y, cv=outer_cv)"
   ]
  },
  {
   "cell_type": "markdown",
   "id": "3c3cbd8f",
   "metadata": {},
   "source": [
    "### Compare scores between 5 models"
   ]
  },
  {
   "cell_type": "code",
   "execution_count": 39,
   "id": "43b04972",
   "metadata": {},
   "outputs": [
    {
     "data": {
      "text/plain": [
       "{'Decision Tree': 0.9542824074074074,\n",
       " 'Logistic Regression': 0.8981481481481481,\n",
       " 'KNN': 0.8304398148148149,\n",
       " 'NB': 0.8026620370370371,\n",
       " 'SVM': 0.9942129629629629}"
      ]
     },
     "execution_count": 39,
     "metadata": {},
     "output_type": "execute_result"
    }
   ],
   "source": [
    "score = {}\n",
    "score['Decision Tree'] = t_score.mean()\n",
    "score['Logistic Regression'] = lr_score.mean()\n",
    "score['KNN'] = knn_score.mean()\n",
    "score['NB'] = nb_score.mean()\n",
    "score['SVM'] = svm_score.mean()\n",
    "score"
   ]
  },
  {
   "cell_type": "markdown",
   "id": "807406ef",
   "metadata": {},
   "source": [
    "## Final Model"
   ]
  },
  {
   "cell_type": "markdown",
   "id": "28c2a7dd",
   "metadata": {},
   "source": [
    "I choose SVM method to fit the model because it performs the best score (0.99)."
   ]
  },
  {
   "cell_type": "code",
   "execution_count": 40,
   "id": "fa4a05fe",
   "metadata": {},
   "outputs": [],
   "source": [
    "# split training(0.8)-testing(0.2) dataset\n",
    "from sklearn.model_selection import train_test_split\n",
    "from sklearn.metrics import confusion_matrix, classification_report\n",
    "x_train, x_test, y_train, y_test = train_test_split(x_cat, y, test_size=0.2, random_state = 42)"
   ]
  },
  {
   "cell_type": "code",
   "execution_count": 41,
   "id": "5dce091c",
   "metadata": {},
   "outputs": [
    {
     "name": "stdout",
     "output_type": "stream",
     "text": [
      "best params:  {'C': 10, 'gamma': 0.1, 'kernel': 'rbf'}\n",
      "best score:  0.99131272514032\n",
      "[[ 76   7   0   0]\n",
      " [  0  11   0   0]\n",
      " [  0   0 235   0]\n",
      " [  1   2   0  14]]\n",
      "              precision    recall  f1-score   support\n",
      "\n",
      "         acc       0.99      0.92      0.95        83\n",
      "        good       0.55      1.00      0.71        11\n",
      "       unacc       1.00      1.00      1.00       235\n",
      "       vgood       1.00      0.82      0.90        17\n",
      "\n",
      "    accuracy                           0.97       346\n",
      "   macro avg       0.88      0.93      0.89       346\n",
      "weighted avg       0.98      0.97      0.97       346\n",
      "\n"
     ]
    }
   ],
   "source": [
    "# fit the model\n",
    "svm_clf.fit(x_train, y_train)\n",
    "y_pred = svm_clf.predict(x_test)\n",
    "print('best params: ', svm_clf.best_params_)\n",
    "print('best score: ', svm_clf.best_score_)\n",
    "print(confusion_matrix(y_test, y_pred))\n",
    "print(classification_report(y_test, y_pred))"
   ]
  },
  {
   "cell_type": "markdown",
   "id": "6dd7a232",
   "metadata": {},
   "source": [
    "Based on the confusion matrix above, the overall accuracy is 0.97."
   ]
  }
 ],
 "metadata": {
  "kernelspec": {
   "display_name": "virtual_py37",
   "language": "python",
   "name": "virtual_py37"
  },
  "language_info": {
   "codemirror_mode": {
    "name": "ipython",
    "version": 3
   },
   "file_extension": ".py",
   "mimetype": "text/x-python",
   "name": "python",
   "nbconvert_exporter": "python",
   "pygments_lexer": "ipython3",
   "version": "3.7.13"
  }
 },
 "nbformat": 4,
 "nbformat_minor": 5
}
